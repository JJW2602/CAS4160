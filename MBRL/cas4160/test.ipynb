{
 "cells": [
  {
   "cell_type": "code",
   "execution_count": null,
   "id": "62c4ac03-2f26-4f71-9dab-1a1a49bc4c3f",
   "metadata": {},
   "outputs": [],
   "source": [
    "import gymnassium as gym\n",
    "import env_configs\n",
    "\n",
    "env_name \"cheetah-v0\"\n",
    "env = make_env"
   ]
  }
 ],
 "metadata": {
  "kernelspec": {
   "display_name": "Python 3 (ipykernel)",
   "language": "python",
   "name": "python3"
  },
  "language_info": {
   "codemirror_mode": {
    "name": "ipython",
    "version": 3
   },
   "file_extension": ".py",
   "mimetype": "text/x-python",
   "name": "python",
   "nbconvert_exporter": "python",
   "pygments_lexer": "ipython3",
   "version": "3.10.12"
  }
 },
 "nbformat": 4,
 "nbformat_minor": 5
}
