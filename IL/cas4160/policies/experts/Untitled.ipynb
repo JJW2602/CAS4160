{
 "cells": [
  {
   "cell_type": "code",
   "execution_count": 1,
   "id": "be28a0eb-9639-4add-833c-3a21b9e61ce1",
   "metadata": {},
   "outputs": [],
   "source": [
    "import pickle"
   ]
  },
  {
   "cell_type": "code",
   "execution_count": 16,
   "id": "84f9a599-3515-4409-851f-cddaab275bf0",
   "metadata": {},
   "outputs": [],
   "source": [
    "pkl_file = \"Walker2d.pkl\""
   ]
  },
  {
   "cell_type": "code",
   "execution_count": 17,
   "id": "21461829-7c13-4354-8c0b-d82e4c8ae9b4",
   "metadata": {},
   "outputs": [],
   "source": [
    "with open(pkl_file, \"rb\") as f:\n",
    "    data = pickle.loads(f.read())  # 🔥 파일 로드"
   ]
  },
  {
   "cell_type": "code",
   "execution_count": 18,
   "id": "5e7265ef-1d97-432e-9444-9e7ca51be9a1",
   "metadata": {},
   "outputs": [
    {
     "name": "stdout",
     "output_type": "stream",
     "text": [
      "<class 'dict'>\n"
     ]
    }
   ],
   "source": [
    "print(type(data))"
   ]
  },
  {
   "cell_type": "code",
   "execution_count": 19,
   "id": "4489ee1e-3ebb-495e-bc4a-db34a4c5a2db",
   "metadata": {},
   "outputs": [
    {
     "name": "stdout",
     "output_type": "stream",
     "text": [
      "['GaussianPolicy', 'nonlin_type']\n"
     ]
    }
   ],
   "source": [
    "print(list(data.keys()))"
   ]
  },
  {
   "cell_type": "code",
   "execution_count": 20,
   "id": "9b158949-e8b9-4020-8c08-d4baf8702ec0",
   "metadata": {},
   "outputs": [
    {
     "name": "stdout",
     "output_type": "stream",
     "text": [
      "tanh\n"
     ]
    }
   ],
   "source": [
    "print(data['nonlin_type'])"
   ]
  },
  {
   "cell_type": "code",
   "execution_count": 21,
   "id": "3805b488-61d4-4b13-8884-d725e8c6fbd8",
   "metadata": {},
   "outputs": [
    {
     "name": "stdout",
     "output_type": "stream",
     "text": [
      "['out', 'logstdevs_1_Da', 'hidden', 'obsnorm']\n"
     ]
    }
   ],
   "source": [
    "print(list(data['GaussianPolicy'].keys()))"
   ]
  },
  {
   "cell_type": "code",
   "execution_count": null,
   "id": "4c1fe339-9e0b-4263-a026-51d0faaaf08b",
   "metadata": {},
   "outputs": [],
   "source": []
  }
 ],
 "metadata": {
  "kernelspec": {
   "display_name": "Python 3 (ipykernel)",
   "language": "python",
   "name": "python3"
  },
  "language_info": {
   "codemirror_mode": {
    "name": "ipython",
    "version": 3
   },
   "file_extension": ".py",
   "mimetype": "text/x-python",
   "name": "python",
   "nbconvert_exporter": "python",
   "pygments_lexer": "ipython3",
   "version": "3.10.12"
  }
 },
 "nbformat": 4,
 "nbformat_minor": 5
}
